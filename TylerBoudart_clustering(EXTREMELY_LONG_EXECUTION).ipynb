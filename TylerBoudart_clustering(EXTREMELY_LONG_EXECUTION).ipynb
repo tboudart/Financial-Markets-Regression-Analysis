{
 "cells": [
  {
   "cell_type": "markdown",
   "metadata": {},
   "source": [
    "# Cluster Analysis - Boudart"
   ]
  },
  {
   "cell_type": "markdown",
   "metadata": {},
   "source": [
    "#### WARNING: THIS NOTEBOOK TAKES OVER 24 HOURS TO RUN. A SLIM DOWN VERSION WILL BE PROVIDED."
   ]
  },
  {
   "cell_type": "markdown",
   "metadata": {},
   "source": [
    "The goal of this notebook is to explore the data structure for hidden clusters. Good clusters have high intra-class similarity and low inter-class similarity. Good clustering produces clusters where points within a cluster are similar and dissimilar from points in different clusters. We hope to find good clusters in the data we could exploit by fitting classification models on individual clusters instead of the entire dataset. We expect the models for individual clusters to be more accurate and provide better results than a single model fitted on the entire dataset."
   ]
  },
  {
   "cell_type": "code",
   "execution_count": 1,
   "metadata": {},
   "outputs": [],
   "source": [
    "import matplotlib.pyplot as plt\n",
    "import numpy as np\n",
    "import pandas as pd\n",
    "from sklearn.cluster import AgglomerativeClustering, DBSCAN, KMeans, OPTICS\n",
    "from sklearn.decomposition import PCA\n",
    "from sklearn.metrics import calinski_harabasz_score, davies_bouldin_score, silhouette_score\n",
    "from sklearn.model_selection import GridSearchCV\n",
    "from sklearn.preprocessing import MinMaxScaler\n",
    "import warnings\n",
    "%matplotlib inline"
   ]
  },
  {
   "cell_type": "code",
   "execution_count": 2,
   "metadata": {},
   "outputs": [],
   "source": [
    "# Format output of data frame. \n",
    "pd.set_option(\"precision\", 4)\n",
    "pd.set_option('display.max_columns', None)"
   ]
  },
  {
   "cell_type": "code",
   "execution_count": 3,
   "metadata": {},
   "outputs": [],
   "source": [
    "# Load the data with all columns\n",
    "wpFull = pd.read_csv('../data/pump_train_final.csv')\n",
    "\n",
    "# Obtain region column as a categorical data type.\n",
    "regionDF = pd.DataFrame({'regionObj': wpFull['region_code']}, dtype=np.dtype(\"object\"))\n"
   ]
  },
  {
   "cell_type": "code",
   "execution_count": 4,
   "metadata": {},
   "outputs": [],
   "source": [
    "# Load the reduced data\n",
    "wp = pd.read_csv('../data/pump_train_final_reduced.csv')\n",
    "\n",
    "# Split attributes from target class\n",
    "wp_target = wp.iloc[:,-1]\n",
    "wp = wp.iloc[:,:-1]\n",
    "\n",
    "# Add region code.\n",
    "wp = pd.concat([wp, regionDF], axis = 1)"
   ]
  },
  {
   "cell_type": "code",
   "execution_count": 5,
   "metadata": {},
   "outputs": [
    {
     "data": {
      "text/html": [
       "<div>\n",
       "<style scoped>\n",
       "    .dataframe tbody tr th:only-of-type {\n",
       "        vertical-align: middle;\n",
       "    }\n",
       "\n",
       "    .dataframe tbody tr th {\n",
       "        vertical-align: top;\n",
       "    }\n",
       "\n",
       "    .dataframe thead th {\n",
       "        text-align: right;\n",
       "    }\n",
       "</style>\n",
       "<table border=\"1\" class=\"dataframe\">\n",
       "  <thead>\n",
       "    <tr style=\"text-align: right;\">\n",
       "      <th></th>\n",
       "      <th>gps_height</th>\n",
       "      <th>population</th>\n",
       "      <th>public_meeting</th>\n",
       "      <th>permit</th>\n",
       "      <th>extraction_type_class_gravity</th>\n",
       "      <th>extraction_type_class_handpump</th>\n",
       "      <th>extraction_type_class_motorpump</th>\n",
       "      <th>extraction_type_class_other</th>\n",
       "      <th>extraction_type_class_rope pump</th>\n",
       "      <th>extraction_type_class_submersible</th>\n",
       "      <th>extraction_type_class_wind-powered</th>\n",
       "      <th>management_group_commercial</th>\n",
       "      <th>management_group_other</th>\n",
       "      <th>management_group_parastatal</th>\n",
       "      <th>management_group_unknown</th>\n",
       "      <th>management_group_user-group</th>\n",
       "      <th>payment_type_annually</th>\n",
       "      <th>payment_type_monthly</th>\n",
       "      <th>payment_type_never pay</th>\n",
       "      <th>payment_type_on failure</th>\n",
       "      <th>payment_type_other</th>\n",
       "      <th>payment_type_per bucket</th>\n",
       "      <th>payment_type_unknown</th>\n",
       "      <th>quality_group_colored</th>\n",
       "      <th>quality_group_fluoride</th>\n",
       "      <th>quality_group_good</th>\n",
       "      <th>quality_group_milky</th>\n",
       "      <th>quality_group_salty</th>\n",
       "      <th>quality_group_unknown</th>\n",
       "      <th>quantity_group_dry</th>\n",
       "      <th>quantity_group_enough</th>\n",
       "      <th>quantity_group_insufficient</th>\n",
       "      <th>quantity_group_seasonal</th>\n",
       "      <th>quantity_group_unknown</th>\n",
       "      <th>source_type_borehole</th>\n",
       "      <th>source_type_dam</th>\n",
       "      <th>source_type_other</th>\n",
       "      <th>source_type_rainwater harvesting</th>\n",
       "      <th>source_type_river/lake</th>\n",
       "      <th>source_type_shallow well</th>\n",
       "      <th>source_type_spring</th>\n",
       "      <th>waterpoint_type_group_cattle trough</th>\n",
       "      <th>waterpoint_type_group_communal standpipe</th>\n",
       "      <th>waterpoint_type_group_dam</th>\n",
       "      <th>waterpoint_type_group_hand pump</th>\n",
       "      <th>waterpoint_type_group_improved spring</th>\n",
       "      <th>waterpoint_type_group_other</th>\n",
       "      <th>regionObj_2</th>\n",
       "      <th>regionObj_3</th>\n",
       "      <th>regionObj_4</th>\n",
       "      <th>regionObj_5</th>\n",
       "      <th>regionObj_6</th>\n",
       "      <th>regionObj_7</th>\n",
       "      <th>regionObj_8</th>\n",
       "      <th>regionObj_9</th>\n",
       "      <th>regionObj_10</th>\n",
       "      <th>regionObj_11</th>\n",
       "      <th>regionObj_13</th>\n",
       "      <th>regionObj_15</th>\n",
       "      <th>regionObj_16</th>\n",
       "      <th>regionObj_17</th>\n",
       "      <th>regionObj_18</th>\n",
       "      <th>regionObj_19</th>\n",
       "      <th>regionObj_20</th>\n",
       "      <th>regionObj_21</th>\n",
       "      <th>regionObj_24</th>\n",
       "      <th>regionObj_40</th>\n",
       "      <th>regionObj_60</th>\n",
       "      <th>regionObj_80</th>\n",
       "      <th>regionObj_90</th>\n",
       "      <th>regionObj_99</th>\n",
       "    </tr>\n",
       "  </thead>\n",
       "  <tbody>\n",
       "    <tr>\n",
       "      <th>0</th>\n",
       "      <td>1390.0000</td>\n",
       "      <td>109.000</td>\n",
       "      <td>1.0</td>\n",
       "      <td>0.0</td>\n",
       "      <td>1</td>\n",
       "      <td>0</td>\n",
       "      <td>0</td>\n",
       "      <td>0</td>\n",
       "      <td>0</td>\n",
       "      <td>0</td>\n",
       "      <td>0</td>\n",
       "      <td>0</td>\n",
       "      <td>0</td>\n",
       "      <td>0</td>\n",
       "      <td>0</td>\n",
       "      <td>1</td>\n",
       "      <td>1</td>\n",
       "      <td>0</td>\n",
       "      <td>0</td>\n",
       "      <td>0</td>\n",
       "      <td>0</td>\n",
       "      <td>0</td>\n",
       "      <td>0</td>\n",
       "      <td>0</td>\n",
       "      <td>0</td>\n",
       "      <td>1</td>\n",
       "      <td>0</td>\n",
       "      <td>0</td>\n",
       "      <td>0</td>\n",
       "      <td>0</td>\n",
       "      <td>1</td>\n",
       "      <td>0</td>\n",
       "      <td>0</td>\n",
       "      <td>0</td>\n",
       "      <td>0</td>\n",
       "      <td>0</td>\n",
       "      <td>0</td>\n",
       "      <td>0</td>\n",
       "      <td>0</td>\n",
       "      <td>0</td>\n",
       "      <td>1</td>\n",
       "      <td>0</td>\n",
       "      <td>1</td>\n",
       "      <td>0</td>\n",
       "      <td>0</td>\n",
       "      <td>0</td>\n",
       "      <td>0</td>\n",
       "      <td>0</td>\n",
       "      <td>0</td>\n",
       "      <td>0</td>\n",
       "      <td>0</td>\n",
       "      <td>0</td>\n",
       "      <td>0</td>\n",
       "      <td>0</td>\n",
       "      <td>0</td>\n",
       "      <td>0</td>\n",
       "      <td>1</td>\n",
       "      <td>0</td>\n",
       "      <td>0</td>\n",
       "      <td>0</td>\n",
       "      <td>0</td>\n",
       "      <td>0</td>\n",
       "      <td>0</td>\n",
       "      <td>0</td>\n",
       "      <td>0</td>\n",
       "      <td>0</td>\n",
       "      <td>0</td>\n",
       "      <td>0</td>\n",
       "      <td>0</td>\n",
       "      <td>0</td>\n",
       "      <td>0</td>\n",
       "    </tr>\n",
       "    <tr>\n",
       "      <th>1</th>\n",
       "      <td>1399.0000</td>\n",
       "      <td>280.000</td>\n",
       "      <td>0.0</td>\n",
       "      <td>1.0</td>\n",
       "      <td>1</td>\n",
       "      <td>0</td>\n",
       "      <td>0</td>\n",
       "      <td>0</td>\n",
       "      <td>0</td>\n",
       "      <td>0</td>\n",
       "      <td>0</td>\n",
       "      <td>0</td>\n",
       "      <td>0</td>\n",
       "      <td>0</td>\n",
       "      <td>0</td>\n",
       "      <td>1</td>\n",
       "      <td>0</td>\n",
       "      <td>0</td>\n",
       "      <td>1</td>\n",
       "      <td>0</td>\n",
       "      <td>0</td>\n",
       "      <td>0</td>\n",
       "      <td>0</td>\n",
       "      <td>0</td>\n",
       "      <td>0</td>\n",
       "      <td>1</td>\n",
       "      <td>0</td>\n",
       "      <td>0</td>\n",
       "      <td>0</td>\n",
       "      <td>0</td>\n",
       "      <td>0</td>\n",
       "      <td>1</td>\n",
       "      <td>0</td>\n",
       "      <td>0</td>\n",
       "      <td>0</td>\n",
       "      <td>0</td>\n",
       "      <td>0</td>\n",
       "      <td>1</td>\n",
       "      <td>0</td>\n",
       "      <td>0</td>\n",
       "      <td>0</td>\n",
       "      <td>0</td>\n",
       "      <td>1</td>\n",
       "      <td>0</td>\n",
       "      <td>0</td>\n",
       "      <td>0</td>\n",
       "      <td>0</td>\n",
       "      <td>0</td>\n",
       "      <td>0</td>\n",
       "      <td>0</td>\n",
       "      <td>0</td>\n",
       "      <td>0</td>\n",
       "      <td>0</td>\n",
       "      <td>0</td>\n",
       "      <td>0</td>\n",
       "      <td>0</td>\n",
       "      <td>0</td>\n",
       "      <td>0</td>\n",
       "      <td>0</td>\n",
       "      <td>0</td>\n",
       "      <td>0</td>\n",
       "      <td>0</td>\n",
       "      <td>0</td>\n",
       "      <td>1</td>\n",
       "      <td>0</td>\n",
       "      <td>0</td>\n",
       "      <td>0</td>\n",
       "      <td>0</td>\n",
       "      <td>0</td>\n",
       "      <td>0</td>\n",
       "      <td>0</td>\n",
       "    </tr>\n",
       "    <tr>\n",
       "      <th>2</th>\n",
       "      <td>686.0000</td>\n",
       "      <td>250.000</td>\n",
       "      <td>1.0</td>\n",
       "      <td>1.0</td>\n",
       "      <td>1</td>\n",
       "      <td>0</td>\n",
       "      <td>0</td>\n",
       "      <td>0</td>\n",
       "      <td>0</td>\n",
       "      <td>0</td>\n",
       "      <td>0</td>\n",
       "      <td>0</td>\n",
       "      <td>0</td>\n",
       "      <td>0</td>\n",
       "      <td>0</td>\n",
       "      <td>1</td>\n",
       "      <td>0</td>\n",
       "      <td>0</td>\n",
       "      <td>0</td>\n",
       "      <td>0</td>\n",
       "      <td>0</td>\n",
       "      <td>1</td>\n",
       "      <td>0</td>\n",
       "      <td>0</td>\n",
       "      <td>0</td>\n",
       "      <td>1</td>\n",
       "      <td>0</td>\n",
       "      <td>0</td>\n",
       "      <td>0</td>\n",
       "      <td>0</td>\n",
       "      <td>1</td>\n",
       "      <td>0</td>\n",
       "      <td>0</td>\n",
       "      <td>0</td>\n",
       "      <td>0</td>\n",
       "      <td>1</td>\n",
       "      <td>0</td>\n",
       "      <td>0</td>\n",
       "      <td>0</td>\n",
       "      <td>0</td>\n",
       "      <td>0</td>\n",
       "      <td>0</td>\n",
       "      <td>1</td>\n",
       "      <td>0</td>\n",
       "      <td>0</td>\n",
       "      <td>0</td>\n",
       "      <td>0</td>\n",
       "      <td>0</td>\n",
       "      <td>0</td>\n",
       "      <td>0</td>\n",
       "      <td>0</td>\n",
       "      <td>0</td>\n",
       "      <td>0</td>\n",
       "      <td>0</td>\n",
       "      <td>0</td>\n",
       "      <td>0</td>\n",
       "      <td>0</td>\n",
       "      <td>0</td>\n",
       "      <td>0</td>\n",
       "      <td>0</td>\n",
       "      <td>0</td>\n",
       "      <td>0</td>\n",
       "      <td>0</td>\n",
       "      <td>0</td>\n",
       "      <td>1</td>\n",
       "      <td>0</td>\n",
       "      <td>0</td>\n",
       "      <td>0</td>\n",
       "      <td>0</td>\n",
       "      <td>0</td>\n",
       "      <td>0</td>\n",
       "    </tr>\n",
       "    <tr>\n",
       "      <th>3</th>\n",
       "      <td>263.0000</td>\n",
       "      <td>58.000</td>\n",
       "      <td>1.0</td>\n",
       "      <td>1.0</td>\n",
       "      <td>0</td>\n",
       "      <td>0</td>\n",
       "      <td>0</td>\n",
       "      <td>0</td>\n",
       "      <td>0</td>\n",
       "      <td>1</td>\n",
       "      <td>0</td>\n",
       "      <td>0</td>\n",
       "      <td>0</td>\n",
       "      <td>0</td>\n",
       "      <td>0</td>\n",
       "      <td>1</td>\n",
       "      <td>0</td>\n",
       "      <td>0</td>\n",
       "      <td>1</td>\n",
       "      <td>0</td>\n",
       "      <td>0</td>\n",
       "      <td>0</td>\n",
       "      <td>0</td>\n",
       "      <td>0</td>\n",
       "      <td>0</td>\n",
       "      <td>1</td>\n",
       "      <td>0</td>\n",
       "      <td>0</td>\n",
       "      <td>0</td>\n",
       "      <td>1</td>\n",
       "      <td>0</td>\n",
       "      <td>0</td>\n",
       "      <td>0</td>\n",
       "      <td>0</td>\n",
       "      <td>1</td>\n",
       "      <td>0</td>\n",
       "      <td>0</td>\n",
       "      <td>0</td>\n",
       "      <td>0</td>\n",
       "      <td>0</td>\n",
       "      <td>0</td>\n",
       "      <td>0</td>\n",
       "      <td>1</td>\n",
       "      <td>0</td>\n",
       "      <td>0</td>\n",
       "      <td>0</td>\n",
       "      <td>0</td>\n",
       "      <td>0</td>\n",
       "      <td>0</td>\n",
       "      <td>0</td>\n",
       "      <td>0</td>\n",
       "      <td>0</td>\n",
       "      <td>0</td>\n",
       "      <td>0</td>\n",
       "      <td>0</td>\n",
       "      <td>0</td>\n",
       "      <td>0</td>\n",
       "      <td>0</td>\n",
       "      <td>0</td>\n",
       "      <td>0</td>\n",
       "      <td>0</td>\n",
       "      <td>0</td>\n",
       "      <td>0</td>\n",
       "      <td>0</td>\n",
       "      <td>0</td>\n",
       "      <td>0</td>\n",
       "      <td>0</td>\n",
       "      <td>0</td>\n",
       "      <td>0</td>\n",
       "      <td>1</td>\n",
       "      <td>0</td>\n",
       "    </tr>\n",
       "    <tr>\n",
       "      <th>4</th>\n",
       "      <td>668.2972</td>\n",
       "      <td>200.875</td>\n",
       "      <td>1.0</td>\n",
       "      <td>1.0</td>\n",
       "      <td>1</td>\n",
       "      <td>0</td>\n",
       "      <td>0</td>\n",
       "      <td>0</td>\n",
       "      <td>0</td>\n",
       "      <td>0</td>\n",
       "      <td>0</td>\n",
       "      <td>0</td>\n",
       "      <td>1</td>\n",
       "      <td>0</td>\n",
       "      <td>0</td>\n",
       "      <td>0</td>\n",
       "      <td>0</td>\n",
       "      <td>0</td>\n",
       "      <td>1</td>\n",
       "      <td>0</td>\n",
       "      <td>0</td>\n",
       "      <td>0</td>\n",
       "      <td>0</td>\n",
       "      <td>0</td>\n",
       "      <td>0</td>\n",
       "      <td>1</td>\n",
       "      <td>0</td>\n",
       "      <td>0</td>\n",
       "      <td>0</td>\n",
       "      <td>0</td>\n",
       "      <td>0</td>\n",
       "      <td>0</td>\n",
       "      <td>1</td>\n",
       "      <td>0</td>\n",
       "      <td>0</td>\n",
       "      <td>0</td>\n",
       "      <td>0</td>\n",
       "      <td>1</td>\n",
       "      <td>0</td>\n",
       "      <td>0</td>\n",
       "      <td>0</td>\n",
       "      <td>0</td>\n",
       "      <td>1</td>\n",
       "      <td>0</td>\n",
       "      <td>0</td>\n",
       "      <td>0</td>\n",
       "      <td>0</td>\n",
       "      <td>0</td>\n",
       "      <td>0</td>\n",
       "      <td>0</td>\n",
       "      <td>0</td>\n",
       "      <td>0</td>\n",
       "      <td>0</td>\n",
       "      <td>0</td>\n",
       "      <td>0</td>\n",
       "      <td>0</td>\n",
       "      <td>0</td>\n",
       "      <td>0</td>\n",
       "      <td>0</td>\n",
       "      <td>0</td>\n",
       "      <td>0</td>\n",
       "      <td>1</td>\n",
       "      <td>0</td>\n",
       "      <td>0</td>\n",
       "      <td>0</td>\n",
       "      <td>0</td>\n",
       "      <td>0</td>\n",
       "      <td>0</td>\n",
       "      <td>0</td>\n",
       "      <td>0</td>\n",
       "      <td>0</td>\n",
       "    </tr>\n",
       "  </tbody>\n",
       "</table>\n",
       "</div>"
      ],
      "text/plain": [
       "   gps_height  population  public_meeting  permit  \\\n",
       "0   1390.0000     109.000             1.0     0.0   \n",
       "1   1399.0000     280.000             0.0     1.0   \n",
       "2    686.0000     250.000             1.0     1.0   \n",
       "3    263.0000      58.000             1.0     1.0   \n",
       "4    668.2972     200.875             1.0     1.0   \n",
       "\n",
       "   extraction_type_class_gravity  extraction_type_class_handpump  \\\n",
       "0                              1                               0   \n",
       "1                              1                               0   \n",
       "2                              1                               0   \n",
       "3                              0                               0   \n",
       "4                              1                               0   \n",
       "\n",
       "   extraction_type_class_motorpump  extraction_type_class_other  \\\n",
       "0                                0                            0   \n",
       "1                                0                            0   \n",
       "2                                0                            0   \n",
       "3                                0                            0   \n",
       "4                                0                            0   \n",
       "\n",
       "   extraction_type_class_rope pump  extraction_type_class_submersible  \\\n",
       "0                                0                                  0   \n",
       "1                                0                                  0   \n",
       "2                                0                                  0   \n",
       "3                                0                                  1   \n",
       "4                                0                                  0   \n",
       "\n",
       "   extraction_type_class_wind-powered  management_group_commercial  \\\n",
       "0                                   0                            0   \n",
       "1                                   0                            0   \n",
       "2                                   0                            0   \n",
       "3                                   0                            0   \n",
       "4                                   0                            0   \n",
       "\n",
       "   management_group_other  management_group_parastatal  \\\n",
       "0                       0                            0   \n",
       "1                       0                            0   \n",
       "2                       0                            0   \n",
       "3                       0                            0   \n",
       "4                       1                            0   \n",
       "\n",
       "   management_group_unknown  management_group_user-group  \\\n",
       "0                         0                            1   \n",
       "1                         0                            1   \n",
       "2                         0                            1   \n",
       "3                         0                            1   \n",
       "4                         0                            0   \n",
       "\n",
       "   payment_type_annually  payment_type_monthly  payment_type_never pay  \\\n",
       "0                      1                     0                       0   \n",
       "1                      0                     0                       1   \n",
       "2                      0                     0                       0   \n",
       "3                      0                     0                       1   \n",
       "4                      0                     0                       1   \n",
       "\n",
       "   payment_type_on failure  payment_type_other  payment_type_per bucket  \\\n",
       "0                        0                   0                        0   \n",
       "1                        0                   0                        0   \n",
       "2                        0                   0                        1   \n",
       "3                        0                   0                        0   \n",
       "4                        0                   0                        0   \n",
       "\n",
       "   payment_type_unknown  quality_group_colored  quality_group_fluoride  \\\n",
       "0                     0                      0                       0   \n",
       "1                     0                      0                       0   \n",
       "2                     0                      0                       0   \n",
       "3                     0                      0                       0   \n",
       "4                     0                      0                       0   \n",
       "\n",
       "   quality_group_good  quality_group_milky  quality_group_salty  \\\n",
       "0                   1                    0                    0   \n",
       "1                   1                    0                    0   \n",
       "2                   1                    0                    0   \n",
       "3                   1                    0                    0   \n",
       "4                   1                    0                    0   \n",
       "\n",
       "   quality_group_unknown  quantity_group_dry  quantity_group_enough  \\\n",
       "0                      0                   0                      1   \n",
       "1                      0                   0                      0   \n",
       "2                      0                   0                      1   \n",
       "3                      0                   1                      0   \n",
       "4                      0                   0                      0   \n",
       "\n",
       "   quantity_group_insufficient  quantity_group_seasonal  \\\n",
       "0                            0                        0   \n",
       "1                            1                        0   \n",
       "2                            0                        0   \n",
       "3                            0                        0   \n",
       "4                            0                        1   \n",
       "\n",
       "   quantity_group_unknown  source_type_borehole  source_type_dam  \\\n",
       "0                       0                     0                0   \n",
       "1                       0                     0                0   \n",
       "2                       0                     0                1   \n",
       "3                       0                     1                0   \n",
       "4                       0                     0                0   \n",
       "\n",
       "   source_type_other  source_type_rainwater harvesting  \\\n",
       "0                  0                                 0   \n",
       "1                  0                                 1   \n",
       "2                  0                                 0   \n",
       "3                  0                                 0   \n",
       "4                  0                                 1   \n",
       "\n",
       "   source_type_river/lake  source_type_shallow well  source_type_spring  \\\n",
       "0                       0                         0                   1   \n",
       "1                       0                         0                   0   \n",
       "2                       0                         0                   0   \n",
       "3                       0                         0                   0   \n",
       "4                       0                         0                   0   \n",
       "\n",
       "   waterpoint_type_group_cattle trough  \\\n",
       "0                                    0   \n",
       "1                                    0   \n",
       "2                                    0   \n",
       "3                                    0   \n",
       "4                                    0   \n",
       "\n",
       "   waterpoint_type_group_communal standpipe  waterpoint_type_group_dam  \\\n",
       "0                                         1                          0   \n",
       "1                                         1                          0   \n",
       "2                                         1                          0   \n",
       "3                                         1                          0   \n",
       "4                                         1                          0   \n",
       "\n",
       "   waterpoint_type_group_hand pump  waterpoint_type_group_improved spring  \\\n",
       "0                                0                                      0   \n",
       "1                                0                                      0   \n",
       "2                                0                                      0   \n",
       "3                                0                                      0   \n",
       "4                                0                                      0   \n",
       "\n",
       "   waterpoint_type_group_other  regionObj_2  regionObj_3  regionObj_4  \\\n",
       "0                            0            0            0            0   \n",
       "1                            0            0            0            0   \n",
       "2                            0            0            0            0   \n",
       "3                            0            0            0            0   \n",
       "4                            0            0            0            0   \n",
       "\n",
       "   regionObj_5  regionObj_6  regionObj_7  regionObj_8  regionObj_9  \\\n",
       "0            0            0            0            0            0   \n",
       "1            0            0            0            0            0   \n",
       "2            0            0            0            0            0   \n",
       "3            0            0            0            0            0   \n",
       "4            0            0            0            0            0   \n",
       "\n",
       "   regionObj_10  regionObj_11  regionObj_13  regionObj_15  regionObj_16  \\\n",
       "0             0             1             0             0             0   \n",
       "1             0             0             0             0             0   \n",
       "2             0             0             0             0             0   \n",
       "3             0             0             0             0             0   \n",
       "4             0             0             0             0             0   \n",
       "\n",
       "   regionObj_17  regionObj_18  regionObj_19  regionObj_20  regionObj_21  \\\n",
       "0             0             0             0             0             0   \n",
       "1             0             0             0             1             0   \n",
       "2             0             0             0             0             1   \n",
       "3             0             0             0             0             0   \n",
       "4             0             1             0             0             0   \n",
       "\n",
       "   regionObj_24  regionObj_40  regionObj_60  regionObj_80  regionObj_90  \\\n",
       "0             0             0             0             0             0   \n",
       "1             0             0             0             0             0   \n",
       "2             0             0             0             0             0   \n",
       "3             0             0             0             0             1   \n",
       "4             0             0             0             0             0   \n",
       "\n",
       "   regionObj_99  \n",
       "0             0  \n",
       "1             0  \n",
       "2             0  \n",
       "3             0  \n",
       "4             0  "
      ]
     },
     "execution_count": 5,
     "metadata": {},
     "output_type": "execute_result"
    }
   ],
   "source": [
    "wp_dum = pd.get_dummies(wp)\n",
    "\n",
    "# Review dummy table\n",
    "wp_dum.head(5)"
   ]
  },
  {
   "cell_type": "code",
   "execution_count": 6,
   "metadata": {},
   "outputs": [],
   "source": [
    "# Scale data using min-max scaling.\n",
    "scaler = MinMaxScaler()\n",
    "scaler.fit(wp_dum)\n",
    "wp_dum = scaler.transform(wp_dum)"
   ]
  },
  {
   "cell_type": "markdown",
   "metadata": {},
   "source": [
    "## Functions"
   ]
  },
  {
   "cell_type": "markdown",
   "metadata": {},
   "source": [
    "The following functions will be used throughout the cluster analysis that follows."
   ]
  },
  {
   "cell_type": "markdown",
   "metadata": {},
   "source": [
    "The runClusteringModel function fits the cluster model and returns three different clustering scores, along with the cluster labels. The three clustering scores are the Variance Ratio Criterion, Davies-Bouldin Criterion, and Silhouette Coefficient using the specified distance measure."
   ]
  },
  {
   "cell_type": "code",
   "execution_count": 7,
   "metadata": {},
   "outputs": [],
   "source": [
    "def runClusteringModel(data, silhouetteScoreMeasure, clusteringModel): \n",
    "    \"\"\"Returns Variance Ratio Criterion, Davies-Bouldin score, Silhouette Coefficient \n",
    "    based on given distance measure, and the class labels.\"\"\"\n",
    "    \n",
    "    # Initialize and fit clustering model\n",
    "    mdl = clusteringModel\n",
    "    mdl.fit(data)    \n",
    "    \n",
    "    mdlLabels = mdl.labels_  # Get cluster labels\n",
    "\n",
    "    VRC = calinski_harabasz_score(data, mdlLabels)\n",
    "    dBScore = davies_bouldin_score(data, mdlLabels)\n",
    "    silhouetteScore = silhouette_score(data, mdlLabels, metric=silhouetteScoreMeasure, random_state=210)\n",
    "    \n",
    "    return VRC, dBScore, silhouetteScore, mdlLabels"
   ]
  },
  {
   "cell_type": "markdown",
   "metadata": {},
   "source": [
    "The runPCAClusteringModel function performs PCA analysis keeping the number of components for the amount of variance specified by the user as an input parameter. The function then calls runClusteringModel to run the cluster analysis using the PCA transformed data. It returns the same information as runClusteringModel plus the number of components needed to capture the amount of variance specified. "
   ]
  },
  {
   "cell_type": "code",
   "execution_count": 8,
   "metadata": {},
   "outputs": [],
   "source": [
    "def runPCAClusteringModel(data, silhouetteScoreMeasure, varCaptured, clusteringModel): \n",
    "    \"\"\"Returns the results of clustering algorithm using PCA transformed data and the number of components\n",
    "    required to caputure the inputted amount of variance.\n",
    "    varCaptured is in decimal form to specify the amount of the data's variance the components capture. \n",
    "    \"\"\"\n",
    "    \n",
    "    pca = PCA(n_components=None)\n",
    "    \n",
    "    # Initialize PCA keeping all components and fit to data. \n",
    "    pca = PCA(n_components=None)\n",
    "    pca.fit(data)\n",
    "    \n",
    "    # Find number of components that obtain 95% of variance\n",
    "    cumVar = pca.explained_variance_ratio_.cumsum().round(decimals=2)\n",
    "    i = 0\n",
    "    while True:\n",
    "        if cumVar[i] >= varCaptured:  # True if at least varCaptured of the variance is captured\n",
    "            numComp = i + 1  # Component number is index plus 1. \n",
    "            break\n",
    "        i += 1\n",
    "    \n",
    "    # Rerun PCA analysis and transformations keeping only three components. \n",
    "    pca = PCA(n_components=numComp)\n",
    "    pca.fit(data)\n",
    "    data_pca = pca.transform(data)\n",
    "    \n",
    "    # Call runClusteringModel function with PCA transformed data.\n",
    "    VRC, dBScore, silhouetteScore, mdlLabels = runClusteringModel(data_pca, silhouetteScoreMeasure, clusteringModel)\n",
    "    return VRC, dBScore, silhouetteScore, mdlLabels, numComp"
   ]
  },
  {
   "cell_type": "markdown",
   "metadata": {},
   "source": [
    "The printClusteringStats function prints the results of the cluster analysis. The results include the three clustering scores obtain from runClusteringModel. Additionally, the function prints the number of clusters produced and some information regarding the top 5 clusters based on the number of instances associated with them. "
   ]
  },
  {
   "cell_type": "code",
   "execution_count": 9,
   "metadata": {},
   "outputs": [],
   "source": [
    "def printClusteringStats(VRC, dBScore, silhouetteScore, silhouetteScoreMeasure, mdlLabels):\n",
    "    \"\"\"Prints clustering results, different measures, number of clusters, and stats of top 5 clusters.\"\"\"\n",
    "    print('The Variance Ratio Criterion is equal to ' + str(round(VRC,2)) + '.')\n",
    "    print('The Davies-Bouldin score is equal to ' + str(round(dBScore,2)) + '.')\n",
    "    print('The mean Silhouette Coefficient using the ' + silhouetteScoreMeasure + ' distance is equal to ' + str(round(silhouetteScore,2)) + '.')\n",
    "    print('The model produced ' + str(mdlLabels.max() + 1) + ' clusters.\\n')\n",
    "    \n",
    "    #show top five clusters and percentage of data in each\n",
    "    unique, counts = np.unique(mdlLabels, return_counts=True)\n",
    "    percent = counts/mdlLabels.size\n",
    "    clusters = pd.DataFrame({'Clusters': unique, 'Number of Instances': counts, 'Percent of Instances': percent})\n",
    "    print(clusters.sort_values(by=['Number of Instances'], ascending=False).head(5))\n",
    "    return"
   ]
  },
  {
   "cell_type": "markdown",
   "metadata": {},
   "source": [
    "The silhouette_scorer function is the scoring method used for GridSearchCV function. silhouette_scorer is needed because there is no built-in option for GridSearchCV to score clusters without the true class labels, which we do not know in this situation. After all, we're trying to find unknown clusters in the data. "
   ]
  },
  {
   "cell_type": "code",
   "execution_count": 10,
   "metadata": {},
   "outputs": [],
   "source": [
    "def silhouette_scorer(data, clusteringModel, silhouetteScoreMeasure='euclidean'):\n",
    "    \"\"\"Returns Silhouette Coefficient to be used in GridSearchCV.\"\"\"\n",
    "    \n",
    "    # Initialize and fit clustering model\n",
    "    mdl = clusteringModel\n",
    "    mdl.fit(data)    \n",
    "    \n",
    "    mdlLabels = mdl.labels_  # Get cluster labels\n",
    "    \n",
    "    numLabels = np.unique(mdlLabels).size \n",
    "    numInstances = data.shape[0]\n",
    "    \n",
    "    if numLabels == 1 or numLabels == numInstances:  # True if only one cluster or cluster for each individual instance\n",
    "        return -1\n",
    "    else:\n",
    "        return silhouette_score(data, mdlLabels, metric=silhouetteScoreMeasure, random_state=210)"
   ]
  },
  {
   "cell_type": "markdown",
   "metadata": {},
   "source": [
    "The graphResults function graphs the results from using different hyperparameters. It displays the Variance Ratio Criterion, Davies-Bouldin Index, and Silhouette Coefficient on the Y-axes over the range of hyperparameter values on the x-axis. "
   ]
  },
  {
   "cell_type": "code",
   "execution_count": 11,
   "metadata": {},
   "outputs": [],
   "source": [
    "def graphResults(x, VRCLst, dBScoreLst, silhouetteScoreLst):\n",
    "    \"\"\"Produce graph for tuning clustering parameters\"\"\"\n",
    "    \n",
    "    # Create graph with number of K on x-axis and measures on y-axes.\n",
    "    fig,ax = plt.subplots()\n",
    "\n",
    "    # Formatting Y-axis on left side of plot \n",
    "    vrc = ax.plot(x, VRCLst, color='red', marker='o', label='Variance Ratio Criterion')\n",
    "    ax.set_xlabel(\"Hyperparameter\",fontsize=14)\n",
    "    ax.set_ylabel(\"Variance Ratio Criterion\",color=\"red\",fontsize=14)\n",
    "\n",
    "    # Formatting Y-axis on right side of plot\n",
    "    ax2=ax.twinx()\n",
    "    dbScore = ax2.plot(x, dBScoreLst,color='blue',marker='o', label='Davies–Bouldin index')\n",
    "    silScore = ax2.plot(x, silhouetteScoreLst,color='green',marker='o', label='Silhouette Score')\n",
    "    ax2.set_ylabel(\"DB & Silhouette Score\",color='blue',fontsize=14)\n",
    "\n",
    "    # Formatting the legend and displaying plot\n",
    "    lns = vrc+dbScore+silScore\n",
    "    labs = [l.get_label() for l in lns]\n",
    "    ax.legend(lns, labs, loc='center left', bbox_to_anchor=(1.25, 0.5))\n",
    "    plt.show()"
   ]
  },
  {
   "cell_type": "markdown",
   "metadata": {},
   "source": [
    "## KMeans Clustering"
   ]
  },
  {
   "cell_type": "code",
   "execution_count": 12,
   "metadata": {},
   "outputs": [
    {
     "data": {
      "image/png": "[encoded data removed]",
      "text/plain": [
       "<Figure size 432x288 with 2 Axes>"
      ]
     },
     "metadata": {
      "needs_background": "light"
     },
     "output_type": "display_data"
    }
   ],
   "source": [
    "# X-axis values and those to be tested for k\n",
    "x = np.arange(2, 11)\n",
    "\n",
    "# placeholders for evaluation measure scores.\n",
    "VRCLst = []\n",
    "dBScoreLst = []\n",
    "silhouetteScoreLst = []\n",
    "\n",
    "# Test different values for K\n",
    "for k in x:\n",
    "    VRC, dBScore, silhouetteScore, mdlLabels = runClusteringModel(wp_dum, 'euclidean', KMeans(n_clusters=k, random_state=210))\n",
    "    VRCLst.append(VRC)\n",
    "    dBScoreLst.append(dBScore)\n",
    "    silhouetteScoreLst.append(silhouetteScore)\n",
    "\n",
    "graphResults(x, VRCLst, dBScoreLst, silhouetteScoreLst)"
   ]
  },
  {
   "cell_type": "markdown",
   "metadata": {},
   "source": [
    "All three measures agree the best number of clusters is 2. The Variance Ratio Criterion signifies the optimal number of clusters at its first local mean. The Davies-Bouldin Index indicated the optimal number of clusters when minimized and the Silhouette Coefficient does when maximized. All of the indications by the three measures agree two is the optimal number of clusters. "
   ]
  },
  {
   "cell_type": "markdown",
   "metadata": {},
   "source": [
    " "
   ]
  },
  {
   "cell_type": "code",
   "execution_count": 13,
   "metadata": {},
   "outputs": [
    {
     "name": "stdout",
     "output_type": "stream",
     "text": [
      "36 components were used to capture 95.0%  of the data's variance.\n"
     ]
    },
    {
     "data": {
      "image/png": "[encoded data removed]",
      "text/plain": [
       "<Figure size 432x288 with 2 Axes>"
      ]
     },
     "metadata": {
      "needs_background": "light"
     },
     "output_type": "display_data"
    }
   ],
   "source": [
    "# X-axis values and those to be tested for k\n",
    "x = np.arange(2, 11)\n",
    "\n",
    "# placeholders for evaluation measure scores.\n",
    "VRCLst = []\n",
    "dBScoreLst = []\n",
    "silhouetteScoreLst = []\n",
    "\n",
    "varCaptured = .95\n",
    "\n",
    "# Test different values for K\n",
    "for k in x:\n",
    "    VRC, dBScore, silhouetteScore, mdlLabels, numComp = runPCAClusteringModel(wp_dum, 'euclidean', varCaptured, KMeans(n_clusters=k, random_state=210))\n",
    "    VRCLst.append(VRC)\n",
    "    dBScoreLst.append(dBScore)\n",
    "    silhouetteScoreLst.append(silhouetteScore)\n",
    "\n",
    "    \n",
    "print(str(numComp) + ' components were used to capture ' + str(varCaptured*100) + '%  of the data\\'s variance.')\n",
    "\n",
    "graphResults(x, VRCLst, dBScoreLst, silhouetteScoreLst)"
   ]
  },
  {
   "cell_type": "markdown",
   "metadata": {},
   "source": [
    "The results using the PCA transformed data were similar to the normal data. "
   ]
  },
  {
   "cell_type": "code",
   "execution_count": 14,
   "metadata": {},
   "outputs": [
    {
     "name": "stdout",
     "output_type": "stream",
     "text": [
      "{'n_clusters': 2}\n"
     ]
    }
   ],
   "source": [
    "warnings.filterwarnings('ignore')\n",
    "cv = [(slice(None), slice(None))]\n",
    "paramDict = {'n_clusters': np.arange(2, 11)}\n",
    "grid = GridSearchCV(estimator=KMeans(random_state=210), param_grid=paramDict, \n",
    "                  scoring=silhouette_scorer, cv=cv, n_jobs=-1)\n",
    "grid.fit(wp_dum)\n",
    "print(grid.best_params_) "
   ]
  },
  {
   "cell_type": "markdown",
   "metadata": {},
   "source": [
    "Obtain confirmation from GridSearchCV that 2 number of clusters produces the best Silhouette Coefficient. "
   ]
  },
  {
   "cell_type": "code",
   "execution_count": 15,
   "metadata": {},
   "outputs": [
    {
     "name": "stdout",
     "output_type": "stream",
     "text": [
      "The Variance Ratio Criterion is equal to 10415.22.\n",
      "The Davies-Bouldin score is equal to 2.11.\n",
      "The mean Silhouette Coefficient using the euclidean distance is equal to 0.18.\n",
      "The model produced 2 clusters.\n",
      "\n",
      "   Clusters  Number of Instances  Percent of Instances\n",
      "0         0                30871                0.6128\n",
      "1         1                19508                0.3872\n"
     ]
    }
   ],
   "source": [
    "silhouetteScoreMeasure = 'euclidean'\n",
    "VRC, dBScore, silhouetteScore, mdlLabels = runClusteringModel(wp_dum, silhouetteScoreMeasure, KMeans(n_clusters=2, random_state=210))\n",
    "printClusteringStats(VRC, dBScore, silhouetteScore, silhouetteScoreMeasure, mdlLabels)"
   ]
  },
  {
   "cell_type": "code",
   "execution_count": 16,
   "metadata": {},
   "outputs": [
    {
     "name": "stdout",
     "output_type": "stream",
     "text": [
      "The Variance Ratio Criterion is equal to 11134.88.\n",
      "The Davies-Bouldin score is equal to 2.04.\n",
      "The mean Silhouette Coefficient using the euclidean distance is equal to 0.19.\n",
      "The model produced 2 clusters.\n",
      "\n",
      "   Clusters  Number of Instances  Percent of Instances\n",
      "1         1                30865                0.6127\n",
      "0         0                19514                0.3873\n"
     ]
    }
   ],
   "source": [
    "silhouetteScoreMeasure = 'euclidean'\n",
    "VRC, dBScore, silhouetteScore, mdlLabels, numComp = runPCAClusteringModel(wp_dum, silhouetteScoreMeasure, .95, KMeans(n_clusters=2, random_state=210))\n",
    "printClusteringStats(VRC, dBScore, silhouetteScore, silhouetteScoreMeasure, mdlLabels)"
   ]
  },
  {
   "cell_type": "markdown",
   "metadata": {},
   "source": [
    "K-Means clustering with and without PCA transformed data did not perform well. The best Silhouette Coefficient produced was .19. The two clusters may represent functional and non functional water pumps. "
   ]
  },
  {
   "cell_type": "markdown",
   "metadata": {},
   "source": [
    "## Density-Based Spatial Clustering of Applications with Noise (DBSCAN)"
   ]
  },
  {
   "cell_type": "code",
   "execution_count": 17,
   "metadata": {},
   "outputs": [
    {
     "data": {
      "image/png": "[encoded data removed]",
      "text/plain": [
       "<Figure size 432x288 with 2 Axes>"
      ]
     },
     "metadata": {
      "needs_background": "light"
     },
     "output_type": "display_data"
    }
   ],
   "source": [
    "# X-axis values and those to be tested for k\n",
    "x = np.linspace(.1, 1.1, 10)\n",
    "\n",
    "# placeholders for evaluation measure scores.\n",
    "VRCLst = []\n",
    "dBScoreLst = []\n",
    "silhouetteScoreLst = []\n",
    "\n",
    "# Test different values for K\n",
    "for eps in x:\n",
    "    VRC, dBScore, silhouetteScore, mdlLabels = runClusteringModel(wp_dum, 'euclidean', DBSCAN(eps=eps))\n",
    "    VRCLst.append(VRC)\n",
    "    dBScoreLst.append(dBScore)\n",
    "    silhouetteScoreLst.append(silhouetteScore)\n",
    "\n",
    "graphResults(x, VRCLst, dBScoreLst, silhouetteScoreLst)"
   ]
  },
  {
   "cell_type": "code",
   "execution_count": 18,
   "metadata": {},
   "outputs": [
    {
     "data": {
      "image/png": "[encoded data removed]",
      "text/plain": [
       "<Figure size 432x288 with 2 Axes>"
      ]
     },
     "metadata": {
      "needs_background": "light"
     },
     "output_type": "display_data"
    }
   ],
   "source": [
    "# X-axis values and those to be tested for k\n",
    "x = np.linspace(.1, 1.1, 10)\n",
    "\n",
    "# placeholders for evaluation measure scores.\n",
    "VRCLst = []\n",
    "dBScoreLst = []\n",
    "silhouetteScoreLst = []\n",
    "\n",
    "# Test different values for K\n",
    "for eps in x:\n",
    "    VRC, dBScore, silhouetteScore, mdlLabels = runClusteringModel(wp_dum, 'cosine', DBSCAN(eps=eps))\n",
    "    VRCLst.append(VRC)\n",
    "    dBScoreLst.append(dBScore)\n",
    "    silhouetteScoreLst.append(silhouetteScore)\n",
    "\n",
    "graphResults(x, VRCLst, dBScoreLst, silhouetteScoreLst)"
   ]
  },
  {
   "cell_type": "markdown",
   "metadata": {},
   "source": [
    "There is no significant difference between using the Euclidean and cosine distance for the Silhouette Coefficient. The optimal eps value is around .35 where the VRC reaches its local maximum before plateauing. This is also where the Davies-Bouldin score is tied for its minimum value and the Silhouette Coefficient is tied for its maximum value. "
   ]
  },
  {
   "cell_type": "code",
   "execution_count": 19,
   "metadata": {},
   "outputs": [
    {
     "name": "stdout",
     "output_type": "stream",
     "text": [
      "36 components were used to capture 95.0%  of the data's variance.\n"
     ]
    },
    {
     "data": {
      "image/png": "[encoded data removed]",
      "text/plain": [
       "<Figure size 432x288 with 2 Axes>"
      ]
     },
     "metadata": {
      "needs_background": "light"
     },
     "output_type": "display_data"
    }
   ],
   "source": [
    "# X-axis values and those to be tested for k\n",
    "x = np.linspace(.1, 1.1, 10)\n",
    "\n",
    "# placeholders for evaluation measure scores.\n",
    "VRCLst = []\n",
    "dBScoreLst = []\n",
    "silhouetteScoreLst = []\n",
    "\n",
    "varCaptured = .95\n",
    "\n",
    "# Test different values for K\n",
    "for k in x:\n",
    "    VRC, dBScore, silhouetteScore, mdlLabels, numComp = runPCAClusteringModel(wp_dum, 'euclidean', varCaptured, DBSCAN(eps=eps))\n",
    "    VRCLst.append(VRC)\n",
    "    dBScoreLst.append(dBScore)\n",
    "    silhouetteScoreLst.append(silhouetteScore)\n",
    "\n",
    "    \n",
    "print(str(numComp) + ' components were used to capture ' + str(varCaptured*100) + '%  of the data\\'s variance.')\n",
    "\n",
    "graphResults(x, VRCLst, dBScoreLst, silhouetteScoreLst)"
   ]
  },
  {
   "cell_type": "markdown",
   "metadata": {},
   "source": [
    "DBSCAN did not perform well using the PCA transformed data. The Silhouette Coefficient remains below zero for all tested eps values. "
   ]
  },
  {
   "cell_type": "code",
   "execution_count": 20,
   "metadata": {},
   "outputs": [
    {
     "name": "stdout",
     "output_type": "stream",
     "text": [
      "The Variance Ratio Criterion is equal to 133.04.\n",
      "The Davies-Bouldin score is equal to 1.06.\n",
      "The mean Silhouette Coefficient using the euclidean distance is equal to 0.71.\n",
      "The model produced 1567 clusters.\n",
      "\n",
      "    Clusters  Number of Instances  Percent of Instances\n",
      "0         -1                 8089                0.1606\n",
      "38        37                  692                0.0137\n",
      "15        14                  652                0.0129\n",
      "43        42                  604                0.0120\n",
      "10         9                  524                0.0104\n"
     ]
    }
   ],
   "source": [
    "silhouetteScoreMeasure = 'euclidean'\n",
    "VRC, dBScore, silhouetteScore, mdlLabels = runClusteringModel(wp_dum, silhouetteScoreMeasure, DBSCAN(eps=.32))\n",
    "printClusteringStats(VRC, dBScore, silhouetteScore, silhouetteScoreMeasure, mdlLabels)"
   ]
  },
  {
   "cell_type": "code",
   "execution_count": 21,
   "metadata": {},
   "outputs": [
    {
     "name": "stdout",
     "output_type": "stream",
     "text": [
      "The Variance Ratio Criterion is equal to 8.11.\n",
      "The Davies-Bouldin score is equal to 1.32.\n",
      "The mean Silhouette Coefficient using the euclidean distance is equal to 0.12.\n",
      "The model produced 2 clusters.\n",
      "\n",
      "   Clusters  Number of Instances  Percent of Instances\n",
      "1         0                50369            9.9980e-01\n",
      "2         1                    8            1.5880e-04\n",
      "0        -1                    2            3.9699e-05\n"
     ]
    }
   ],
   "source": [
    "silhouetteScoreMeasure = 'euclidean'\n",
    "VRC, dBScore, silhouetteScore, mdlLabels = runClusteringModel(wp_dum, silhouetteScoreMeasure, DBSCAN(eps=.32, metric = 'cosine'))\n",
    "printClusteringStats(VRC, dBScore, silhouetteScore, silhouetteScoreMeasure, mdlLabels)"
   ]
  },
  {
   "cell_type": "code",
   "execution_count": 22,
   "metadata": {},
   "outputs": [
    {
     "name": "stdout",
     "output_type": "stream",
     "text": [
      "The Variance Ratio Criterion is equal to 138.13.\n",
      "The Davies-Bouldin score is equal to 1.07.\n",
      "The mean Silhouette Coefficient using the euclidean distance is equal to 0.58.\n",
      "The model produced 875 clusters.\n",
      "\n",
      "    Clusters  Number of Instances  Percent of Instances\n",
      "0         -1                12626                0.2506\n",
      "34        33                  692                0.0137\n",
      "14        13                  652                0.0129\n",
      "39        38                  604                0.0120\n",
      "9          8                  524                0.0104\n"
     ]
    }
   ],
   "source": [
    "silhouetteScoreMeasure = 'euclidean'\n",
    "VRC, dBScore, silhouetteScore, mdlLabels = runClusteringModel(wp_dum, silhouetteScoreMeasure, DBSCAN(eps=.32, min_samples=10))\n",
    "printClusteringStats(VRC, dBScore, silhouetteScore, silhouetteScoreMeasure, mdlLabels)"
   ]
  },
  {
   "cell_type": "code",
   "execution_count": 23,
   "metadata": {},
   "outputs": [
    {
     "name": "stdout",
     "output_type": "stream",
     "text": [
      "The Variance Ratio Criterion is equal to 138.55.\n",
      "The Davies-Bouldin score is equal to 1.07.\n",
      "The mean Silhouette Coefficient using the euclidean distance is equal to 0.58.\n",
      "The model produced 877 clusters.\n",
      "\n",
      "    Clusters  Number of Instances  Percent of Instances\n",
      "0         -1                12566                0.2494\n",
      "34        33                  692                0.0137\n",
      "14        13                  652                0.0129\n",
      "39        38                  604                0.0120\n",
      "9          8                  524                0.0104\n"
     ]
    }
   ],
   "source": [
    "silhouetteScoreMeasure = 'euclidean'\n",
    "VRC, dBScore, silhouetteScore, mdlLabels = runClusteringModel(wp_dum, silhouetteScoreMeasure, DBSCAN(eps=.85, min_samples=10))\n",
    "printClusteringStats(VRC, dBScore, silhouetteScore, silhouetteScoreMeasure, mdlLabels)"
   ]
  },
  {
   "cell_type": "code",
   "execution_count": 24,
   "metadata": {},
   "outputs": [
    {
     "name": "stdout",
     "output_type": "stream",
     "text": [
      "The Variance Ratio Criterion is equal to 167.1.\n",
      "The Davies-Bouldin score is equal to 1.08.\n",
      "The mean Silhouette Coefficient using the euclidean distance is equal to 0.36.\n",
      "The model produced 364 clusters.\n",
      "\n",
      "    Clusters  Number of Instances  Percent of Instances\n",
      "0         -1                20201                0.4010\n",
      "29        28                  692                0.0137\n",
      "13        12                  652                0.0129\n",
      "33        32                  604                0.0120\n",
      "8          7                  524                0.0104\n"
     ]
    }
   ],
   "source": [
    "silhouetteScoreMeasure = 'euclidean'\n",
    "VRC, dBScore, silhouetteScore, mdlLabels = runClusteringModel(wp_dum, silhouetteScoreMeasure, DBSCAN(eps=.32, min_samples=25))\n",
    "printClusteringStats(VRC, dBScore, silhouetteScore, silhouetteScoreMeasure, mdlLabels)"
   ]
  },
  {
   "cell_type": "code",
   "execution_count": 25,
   "metadata": {},
   "outputs": [
    {
     "name": "stdout",
     "output_type": "stream",
     "text": [
      "{'eps': 0.1}\n"
     ]
    }
   ],
   "source": [
    "warnings.filterwarnings('ignore')\n",
    "cv = [(slice(None), slice(None))]\n",
    "paramDict = {'eps': np.linspace(.1, 1.1, 10)}\n",
    "grid = GridSearchCV(estimator=DBSCAN(), param_grid=paramDict, \n",
    "                  scoring=silhouette_scorer, cv=cv, n_jobs=-1)\n",
    "grid.fit(wp_dum)\n",
    "print(grid.best_params_) "
   ]
  },
  {
   "cell_type": "markdown",
   "metadata": {},
   "source": [
    "GridSearchCV indicates the best eps is 0.1, lower than that indicated by the three measures graphed above."
   ]
  },
  {
   "cell_type": "code",
   "execution_count": 26,
   "metadata": {},
   "outputs": [
    {
     "name": "stdout",
     "output_type": "stream",
     "text": [
      "The Variance Ratio Criterion is equal to 120.06.\n",
      "The Davies-Bouldin score is equal to 1.05.\n",
      "The mean Silhouette Coefficient using the euclidean distance is equal to 0.68.\n",
      "The model produced 1580 clusters.\n",
      "\n",
      "    Clusters  Number of Instances  Percent of Instances\n",
      "0         -1                 8807                0.1748\n",
      "38        37                  692                0.0137\n",
      "15        14                  652                0.0129\n",
      "43        42                  604                0.0120\n",
      "10         9                  524                0.0104\n"
     ]
    }
   ],
   "source": [
    "silhouetteScoreMeasure = 'euclidean'\n",
    "VRC, dBScore, silhouetteScore, mdlLabels = runClusteringModel(wp_dum, silhouetteScoreMeasure, DBSCAN(eps=.1))\n",
    "printClusteringStats(VRC, dBScore, silhouetteScore, silhouetteScoreMeasure, mdlLabels)"
   ]
  },
  {
   "cell_type": "code",
   "execution_count": 27,
   "metadata": {},
   "outputs": [
    {
     "name": "stdout",
     "output_type": "stream",
     "text": [
      "The Variance Ratio Criterion is equal to 167.1.\n",
      "The Davies-Bouldin score is equal to 1.08.\n",
      "The mean Silhouette Coefficient using the euclidean distance is equal to 0.36.\n",
      "The model produced 364 clusters.\n",
      "\n",
      "    Clusters  Number of Instances  Percent of Instances\n",
      "0         -1                20201                0.4010\n",
      "29        28                  692                0.0137\n",
      "13        12                  652                0.0129\n",
      "33        32                  604                0.0120\n",
      "8          7                  524                0.0104\n"
     ]
    }
   ],
   "source": [
    "silhouetteScoreMeasure = 'euclidean'\n",
    "VRC, dBScore, silhouetteScore, mdlLabels = runClusteringModel(wp_dum, silhouetteScoreMeasure, DBSCAN(eps=.32, min_samples=25))\n",
    "printClusteringStats(VRC, dBScore, silhouetteScore, silhouetteScoreMeasure, mdlLabels)"
   ]
  },
  {
   "cell_type": "markdown",
   "metadata": {},
   "source": [
    "Density-Based Spatial Clustering of Applications with Noise is producing too many small clusters to be useful. Noise is accounting for the largest share of instances, then there are hundreds of many small clusters that make up around 1.4% or less of the instances in the data set. "
   ]
  },
  {
   "cell_type": "markdown",
   "metadata": {},
   "source": [
    "## Hierarchical Clustering"
   ]
  },
  {
   "cell_type": "code",
   "execution_count": 28,
   "metadata": {},
   "outputs": [
    {
     "data": {
      "image/png": "[encoded data removed]",
      "text/plain": [
       "<Figure size 432x288 with 2 Axes>"
      ]
     },
     "metadata": {
      "needs_background": "light"
     },
     "output_type": "display_data"
    }
   ],
   "source": [
    "# X-axis values and those to be tested for k\n",
    "x = np.arange(2, 11)\n",
    "\n",
    "# placeholders for evaluation measure scores.\n",
    "VRCLst = []\n",
    "dBScoreLst = []\n",
    "silhouetteScoreLst = []\n",
    "\n",
    "# Test different values for K\n",
    "for numClusters in x:\n",
    "    VRC, dBScore, silhouetteScore, mdlLabels = runClusteringModel(wp_dum, 'euclidean', AgglomerativeClustering(n_clusters=numClusters, affinity='euclidean', linkage='ward'))\n",
    "    VRCLst.append(VRC)\n",
    "    dBScoreLst.append(dBScore)\n",
    "    silhouetteScoreLst.append(silhouetteScore)\n",
    "\n",
    "graphResults(x, VRCLst, dBScoreLst, silhouetteScoreLst)"
   ]
  },
  {
   "cell_type": "code",
   "execution_count": 29,
   "metadata": {},
   "outputs": [
    {
     "name": "stdout",
     "output_type": "stream",
     "text": [
      "The Variance Ratio Criterion is equal to 10085.83.\n",
      "The Davies-Bouldin score is equal to 2.12.\n",
      "The mean Silhouette Coefficient using the euclidean distance is equal to 0.18.\n",
      "The model produced 2 clusters.\n",
      "\n",
      "   Clusters  Number of Instances  Percent of Instances\n",
      "0         0                31676                0.6288\n",
      "1         1                18703                0.3712\n"
     ]
    }
   ],
   "source": [
    "silhouetteScoreMeasure = 'euclidean'\n",
    "VRC, dBScore, silhouetteScore, mdlLabels = runClusteringModel(wp_dum, silhouetteScoreMeasure, AgglomerativeClustering(n_clusters=2, affinity='euclidean', linkage='ward'))\n",
    "printClusteringStats(VRC, dBScore, silhouetteScore, silhouetteScoreMeasure, mdlLabels)"
   ]
  },
  {
   "cell_type": "code",
   "execution_count": 30,
   "metadata": {},
   "outputs": [
    {
     "name": "stdout",
     "output_type": "stream",
     "text": [
      "The Variance Ratio Criterion is equal to 307.95.\n",
      "The Davies-Bouldin score is equal to 1.81.\n",
      "The mean Silhouette Coefficient using the euclidean distance is equal to 0.17.\n",
      "The model produced 2 clusters.\n",
      "\n",
      "   Clusters  Number of Instances  Percent of Instances\n",
      "0         0                50084                0.9941\n",
      "1         1                  295                0.0059\n"
     ]
    }
   ],
   "source": [
    "silhouetteScoreMeasure = 'euclidean'\n",
    "VRC, dBScore, silhouetteScore, mdlLabels = runClusteringModel(wp_dum, silhouetteScoreMeasure, AgglomerativeClustering(n_clusters=2, affinity='euclidean', linkage='average'))\n",
    "printClusteringStats(VRC, dBScore, silhouetteScore, silhouetteScoreMeasure, mdlLabels)"
   ]
  },
  {
   "cell_type": "code",
   "execution_count": 31,
   "metadata": {},
   "outputs": [
    {
     "name": "stdout",
     "output_type": "stream",
     "text": [
      "The Variance Ratio Criterion is equal to 7245.67.\n",
      "The Davies-Bouldin score is equal to 2.13.\n",
      "The mean Silhouette Coefficient using the euclidean distance is equal to 0.14.\n",
      "The model produced 2 clusters.\n",
      "\n",
      "   Clusters  Number of Instances  Percent of Instances\n",
      "0         0                38080                0.7559\n",
      "1         1                12299                0.2441\n"
     ]
    }
   ],
   "source": [
    "silhouetteScoreMeasure = 'euclidean'\n",
    "VRC, dBScore, silhouetteScore, mdlLabels = runClusteringModel(wp_dum, silhouetteScoreMeasure, AgglomerativeClustering(n_clusters=2, affinity='euclidean', linkage='complete'))\n",
    "printClusteringStats(VRC, dBScore, silhouetteScore, silhouetteScoreMeasure, mdlLabels)"
   ]
  },
  {
   "cell_type": "code",
   "execution_count": 32,
   "metadata": {},
   "outputs": [
    {
     "name": "stdout",
     "output_type": "stream",
     "text": [
      "The Variance Ratio Criterion is equal to 1.87.\n",
      "The Davies-Bouldin score is equal to 0.73.\n",
      "The mean Silhouette Coefficient using the euclidean distance is equal to 0.17.\n",
      "The model produced 2 clusters.\n",
      "\n",
      "   Clusters  Number of Instances  Percent of Instances\n",
      "0         0                50378            9.9998e-01\n",
      "1         1                    1            1.9850e-05\n"
     ]
    }
   ],
   "source": [
    "silhouetteScoreMeasure = 'euclidean'\n",
    "VRC, dBScore, silhouetteScore, mdlLabels = runClusteringModel(wp_dum, silhouetteScoreMeasure, AgglomerativeClustering(n_clusters=2, affinity='euclidean', linkage='single'))\n",
    "printClusteringStats(VRC, dBScore, silhouetteScore, silhouetteScoreMeasure, mdlLabels)"
   ]
  },
  {
   "cell_type": "markdown",
   "metadata": {},
   "source": [
    "With Hierarchical Clustering, the ward linkage method performed best in terms of the Silhouette Coefficient. The ward linkage method performed similary to the KMeans method. "
   ]
  },
  {
   "cell_type": "code",
   "execution_count": 33,
   "metadata": {},
   "outputs": [
    {
     "name": "stdout",
     "output_type": "stream",
     "text": [
      "{'n_clusters': 2}\n"
     ]
    }
   ],
   "source": [
    "warnings.filterwarnings('ignore')\n",
    "cv = [(slice(None), slice(None))]\n",
    "paramDict = {'n_clusters': np.arange(2, 11),}\n",
    "grid = GridSearchCV(estimator=AgglomerativeClustering(affinity='euclidean', linkage='ward'), param_grid=paramDict, \n",
    "                  scoring=silhouette_scorer, cv=cv, n_jobs=-1)\n",
    "grid.fit(wp_dum)\n",
    "print(grid.best_params_) "
   ]
  },
  {
   "cell_type": "code",
   "execution_count": 34,
   "metadata": {},
   "outputs": [
    {
     "name": "stdout",
     "output_type": "stream",
     "text": [
      "The Variance Ratio Criterion is equal to 10085.83.\n",
      "The Davies-Bouldin score is equal to 2.12.\n",
      "The mean Silhouette Coefficient using the euclidean distance is equal to 0.18.\n",
      "The model produced 2 clusters.\n",
      "\n",
      "   Clusters  Number of Instances  Percent of Instances\n",
      "0         0                31676                0.6288\n",
      "1         1                18703                0.3712\n"
     ]
    }
   ],
   "source": [
    "silhouetteScoreMeasure = 'euclidean'\n",
    "VRC, dBScore, silhouetteScore, mdlLabels = runClusteringModel(wp_dum, silhouetteScoreMeasure, AgglomerativeClustering(n_clusters=2, affinity='euclidean', linkage='ward'))\n",
    "printClusteringStats(VRC, dBScore, silhouetteScore, silhouetteScoreMeasure, mdlLabels)"
   ]
  },
  {
   "cell_type": "code",
   "execution_count": 35,
   "metadata": {},
   "outputs": [
    {
     "name": "stdout",
     "output_type": "stream",
     "text": [
      "36 components were used to capture 95.0%  of the data's variance.\n"
     ]
    },
    {
     "data": {
      "image/png": "[encoded data removed]",
      "text/plain": [
       "<Figure size 432x288 with 2 Axes>"
      ]
     },
     "metadata": {
      "needs_background": "light"
     },
     "output_type": "display_data"
    }
   ],
   "source": [
    "# X-axis values and those to be tested for k\n",
    "x = np.arange(2, 11)\n",
    "\n",
    "# placeholders for evaluation measure scores.\n",
    "VRCLst = []\n",
    "dBScoreLst = []\n",
    "silhouetteScoreLst = []\n",
    "\n",
    "varCaptured = .95\n",
    "\n",
    "# Test different values for K\n",
    "for k in x:\n",
    "    VRC, dBScore, silhouetteScore, mdlLabels, numComp = runPCAClusteringModel(wp_dum, 'euclidean', varCaptured, AgglomerativeClustering(n_clusters=numClusters, affinity='euclidean', linkage='ward'))\n",
    "    VRCLst.append(VRC)\n",
    "    dBScoreLst.append(dBScore)\n",
    "    silhouetteScoreLst.append(silhouetteScore)\n",
    "\n",
    "    \n",
    "print(str(numComp) + ' components were used to capture ' + str(varCaptured*100) + '%  of the data\\'s variance.')\n",
    "\n",
    "graphResults(x, VRCLst, dBScoreLst, silhouetteScoreLst)"
   ]
  },
  {
   "cell_type": "code",
   "execution_count": 36,
   "metadata": {},
   "outputs": [
    {
     "name": "stdout",
     "output_type": "stream",
     "text": [
      "The Variance Ratio Criterion is equal to 9529.56.\n",
      "The Davies-Bouldin score is equal to 1.98.\n",
      "The mean Silhouette Coefficient using the euclidean distance is equal to 0.17.\n",
      "The model produced 2 clusters.\n",
      "\n",
      "   Clusters  Number of Instances  Percent of Instances\n",
      "0         0                35950                0.7136\n",
      "1         1                14429                0.2864\n"
     ]
    }
   ],
   "source": [
    "silhouetteScoreMeasure = 'euclidean'\n",
    "VRC, dBScore, silhouetteScore, mdlLabels, numComp = runPCAClusteringModel(wp_dum, silhouetteScoreMeasure, .95, AgglomerativeClustering(n_clusters=2, affinity='euclidean', linkage='ward'))\n",
    "printClusteringStats(VRC, dBScore, silhouetteScore, silhouetteScoreMeasure, mdlLabels)"
   ]
  },
  {
   "cell_type": "markdown",
   "metadata": {},
   "source": [
    "The PCA method does not improve the Silhouette Coefficient and does slightly worst than the non-PCA transformed data. "
   ]
  },
  {
   "cell_type": "markdown",
   "metadata": {},
   "source": [
    "## OPTICS"
   ]
  },
  {
   "cell_type": "code",
   "execution_count": 37,
   "metadata": {},
   "outputs": [
    {
     "data": {
      "image/png": "[encoded data removed]",
      "text/plain": [
       "<Figure size 432x288 with 2 Axes>"
      ]
     },
     "metadata": {
      "needs_background": "light"
     },
     "output_type": "display_data"
    }
   ],
   "source": [
    "# X-axis values and those to be tested for k\n",
    "x = np.arange(5, 51, 5)\n",
    "\n",
    "# placeholders for evaluation measure scores.\n",
    "VRCLst = []\n",
    "dBScoreLst = []\n",
    "silhouetteScoreLst = []\n",
    "\n",
    "# Test different values for K\n",
    "for numSamples in x:\n",
    "    VRC, dBScore, silhouetteScore, mdlLabels = runClusteringModel(wp_dum, 'euclidean', OPTICS(min_samples=numSamples))\n",
    "    VRCLst.append(VRC)\n",
    "    dBScoreLst.append(dBScore)\n",
    "    silhouetteScoreLst.append(silhouetteScore)\n",
    "\n",
    "graphResults(x, VRCLst, dBScoreLst, silhouetteScoreLst)"
   ]
  },
  {
   "cell_type": "markdown",
   "metadata": {},
   "source": [
    "The Davies-Bouldin Index and Silhouette Score agree the default minimum samples of 5 is the best value for the hyperparameter. The Variance Ratio Criterion continues to rise throughout the entire range tested but appears to be plateauing. Due to the high computational cost of running the OPTICS method, only the default value for min_samples was tested, which is the value two of the three measures agreed to be the best hyperparameter. "
   ]
  },
  {
   "cell_type": "code",
   "execution_count": 40,
   "metadata": {},
   "outputs": [
    {
     "name": "stdout",
     "output_type": "stream",
     "text": [
      "The Variance Ratio Criterion is equal to 27.45.\n",
      "The Davies-Bouldin score is equal to 1.06.\n",
      "The mean Silhouette Coefficient using the euclidean distance is equal to 0.28.\n",
      "The model produced 3298 clusters.\n",
      "\n",
      "      Clusters  Number of Instances  Percent of Instances\n",
      "0           -1                16574                0.3290\n",
      "1920      1919                  480                0.0095\n",
      "1497      1496                  335                0.0066\n",
      "1701      1700                  295                0.0059\n",
      "1698      1697                  257                0.0051\n"
     ]
    }
   ],
   "source": [
    "warnings.filterwarnings('ignore')\n",
    "silhouetteScoreMeasure = 'euclidean'\n",
    "VRC, dBScore, silhouetteScore, mdlLabels = runClusteringModel(wp_dum, silhouetteScoreMeasure, OPTICS())\n",
    "printClusteringStats(VRC, dBScore, silhouetteScore, silhouetteScoreMeasure, mdlLabels)"
   ]
  },
  {
   "cell_type": "markdown",
   "metadata": {},
   "source": [
    "The OPTICS measure did not produce useful clusters. Almost a third of the instances are classified as noise and none of the almost 3,300 clusters contain more than a percent of the instances. "
   ]
  },
  {
   "cell_type": "markdown",
   "metadata": {},
   "source": [
    "None of the clustering methods achieved a small number of useful clusters with good clustering scoring. The methods either produced too many small clusters with a significant amount of instances classified as noise or a small number of clusters with poor scoring results. Therefore, fitting classification models on the resulting clusters would not be useful."
   ]
  }
 ],
 "metadata": {
  "kernelspec": {
   "display_name": "Python 3",
   "language": "python",
   "name": "python3"
  },
  "language_info": {
   "codemirror_mode": {
    "name": "ipython",
    "version": 3
   },
   "file_extension": ".py",
   "mimetype": "text/x-python",
   "name": "python",
   "nbconvert_exporter": "python",
   "pygments_lexer": "ipython3",
   "version": "3.8.8"
  }
 },
 "nbformat": 4,
 "nbformat_minor": 4
}
